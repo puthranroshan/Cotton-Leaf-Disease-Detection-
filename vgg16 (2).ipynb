{
  "nbformat": 4,
  "nbformat_minor": 0,
  "metadata": {
    "colab": {
      "provenance": [],
      "gpuType": "T4",
      "toc_visible": true
    },
    "kernelspec": {
      "name": "python3",
      "display_name": "Python 3"
    },
    "language_info": {
      "name": "python"
    },
    "accelerator": "GPU"
  },
  "cells": [
    {
      "cell_type": "code",
      "execution_count": 1,
      "metadata": {
        "colab": {
          "base_uri": "https://localhost:8080/"
        },
        "id": "St-b7OleFYeY",
        "outputId": "def236a3-6a47-445f-b0e4-e1ebca85d254"
      },
      "outputs": [
        {
          "output_type": "stream",
          "name": "stdout",
          "text": [
            "Mounted at /content/drive\n"
          ]
        }
      ],
      "source": [
        "from google.colab import drive\n",
        "drive.mount('/content/drive')"
      ]
    },
    {
      "cell_type": "code",
      "source": [
        "import tensorflow as tf\n",
        "from tensorflow import keras\n",
        "from keras.layers import Input, Lambda, Dense, Flatten\n",
        "from keras.models import Model\n",
        "from tensorflow.keras.applications import VGG16\n",
        "from keras.preprocessing import image\n",
        "from keras.preprocessing.image import ImageDataGenerator\n",
        "from keras.models import Sequential\n",
        "from keras.layers import Dense\n",
        "from keras.metrics import Precision, Recall\n",
        "from sklearn.metrics import f1_score\n",
        "import keras.backend as K\n",
        "from glob import glob\n",
        "\n",
        "# re-size all the images to this\n",
        "IMAGE_SIZE = [224, 224]\n",
        "\n",
        "# add preprocessing layer to the front of resnet\n",
        "vgg16 = VGG16(input_shape=IMAGE_SIZE + [3], weights='imagenet', include_top=False)\n",
        "#changing last layer\n",
        "\n",
        "\n",
        "# don't train existing weights\n",
        "for layer in vgg16.layers:\n",
        "  layer.trainable = False\n",
        "  #traning only the last layer\n",
        "\n",
        "\n",
        "# our layers - you can add more if you want\n",
        "x = Flatten()(vgg16.output)# converting to 1d array\n",
        "# x = Dense(1000, activation='relu')(x)\n",
        "prediction = Dense(4, activation='softmax')(x) #multiclass\n",
        "\n",
        "# create a model object\n",
        "model = Model(inputs=vgg16.input, outputs=prediction)\n",
        "\n",
        "# view the structure of the model\n",
        "model.summary()\n"
      ],
      "metadata": {
        "colab": {
          "base_uri": "https://localhost:8080/"
        },
        "id": "8oqTScPzHI1t",
        "outputId": "bc2b7a6d-9f8b-438f-f600-1fd8bbade133"
      },
      "execution_count": null,
      "outputs": [
        {
          "output_type": "stream",
          "name": "stdout",
          "text": [
            "Model: \"model_2\"\n",
            "_________________________________________________________________\n",
            " Layer (type)                Output Shape              Param #   \n",
            "=================================================================\n",
            " input_3 (InputLayer)        [(None, 224, 224, 3)]     0         \n",
            "                                                                 \n",
            " block1_conv1 (Conv2D)       (None, 224, 224, 64)      1792      \n",
            "                                                                 \n",
            " block1_conv2 (Conv2D)       (None, 224, 224, 64)      36928     \n",
            "                                                                 \n",
            " block1_pool (MaxPooling2D)  (None, 112, 112, 64)      0         \n",
            "                                                                 \n",
            " block2_conv1 (Conv2D)       (None, 112, 112, 128)     73856     \n",
            "                                                                 \n",
            " block2_conv2 (Conv2D)       (None, 112, 112, 128)     147584    \n",
            "                                                                 \n",
            " block2_pool (MaxPooling2D)  (None, 56, 56, 128)       0         \n",
            "                                                                 \n",
            " block3_conv1 (Conv2D)       (None, 56, 56, 256)       295168    \n",
            "                                                                 \n",
            " block3_conv2 (Conv2D)       (None, 56, 56, 256)       590080    \n",
            "                                                                 \n",
            " block3_conv3 (Conv2D)       (None, 56, 56, 256)       590080    \n",
            "                                                                 \n",
            " block3_pool (MaxPooling2D)  (None, 28, 28, 256)       0         \n",
            "                                                                 \n",
            " block4_conv1 (Conv2D)       (None, 28, 28, 512)       1180160   \n",
            "                                                                 \n",
            " block4_conv2 (Conv2D)       (None, 28, 28, 512)       2359808   \n",
            "                                                                 \n",
            " block4_conv3 (Conv2D)       (None, 28, 28, 512)       2359808   \n",
            "                                                                 \n",
            " block4_pool (MaxPooling2D)  (None, 14, 14, 512)       0         \n",
            "                                                                 \n",
            " block5_conv1 (Conv2D)       (None, 14, 14, 512)       2359808   \n",
            "                                                                 \n",
            " block5_conv2 (Conv2D)       (None, 14, 14, 512)       2359808   \n",
            "                                                                 \n",
            " block5_conv3 (Conv2D)       (None, 14, 14, 512)       2359808   \n",
            "                                                                 \n",
            " block5_pool (MaxPooling2D)  (None, 7, 7, 512)         0         \n",
            "                                                                 \n",
            " flatten_2 (Flatten)         (None, 25088)             0         \n",
            "                                                                 \n",
            " dense_2 (Dense)             (None, 4)                 100356    \n",
            "                                                                 \n",
            "=================================================================\n",
            "Total params: 14815044 (56.51 MB)\n",
            "Trainable params: 100356 (392.02 KB)\n",
            "Non-trainable params: 14714688 (56.13 MB)\n",
            "_________________________________________________________________\n"
          ]
        }
      ]
    },
    {
      "cell_type": "code",
      "source": [
        "\n",
        "from tensorflow.keras.callbacks import EarlyStopping\n",
        "\n",
        "# Specify early stopping callback monitoring validation loss\n",
        "early_stopping = EarlyStopping(monitor='val_loss', patience=15, restore_best_weights=True)\n",
        "\n",
        "\n",
        "\n",
        "# tell the model what cost and optimization method to use\n",
        "model.compile(\n",
        "  loss='categorical_crossentropy',\n",
        "  optimizer='adam',\n",
        "  metrics=['accuracy', Precision(), Recall()]\n",
        ")"
      ],
      "metadata": {
        "id": "3e8OTNNFOEVr"
      },
      "execution_count": null,
      "outputs": []
    },
    {
      "cell_type": "code",
      "source": [
        "from keras.preprocessing.image import ImageDataGenerator\n",
        "batch_size=64\n",
        "\n",
        "train_dir = '/content/drive/MyDrive/Cotton_Dataset/train'\n",
        "test_dir = '/content/drive/MyDrive/Cotton_Dataset/test'\n",
        "val_dir = '/content/drive/MyDrive/Cotton_Dataset/val'\n",
        "\n",
        "train_datagen = ImageDataGenerator(rescale =1./255,\n",
        "                                   #vertical_flip =True,\n",
        "                                  # horizontal_flip = True,\n",
        "                                   shear_range = 0.2,\n",
        "                                   zoom_range = 0.2,\n",
        "                                   rotation_range=40,  # Rotation by up to 60 degrees\n",
        "                                   width_shift_range=0.2,\n",
        "                                   height_shift_range=0.2,\n",
        "                                   fill_mode='nearest')\n",
        "\n",
        "\n",
        "training_set = train_datagen.flow_from_directory(\n",
        "    train_dir,\n",
        "    target_size=(224, 224),\n",
        "    batch_size=batch_size,\n",
        "    class_mode='categorical'\n",
        ")\n",
        "\n",
        "\n",
        "\n",
        "test_datagen = ImageDataGenerator(rescale =1./255)\n",
        "\n",
        "testing_set = test_datagen.flow_from_directory(\n",
        "    test_dir,\n",
        "    target_size=(224, 224),\n",
        "    batch_size=batch_size,\n",
        "    class_mode='categorical'\n",
        ")\n",
        "\n",
        "validation_set = test_datagen.flow_from_directory(\n",
        "    val_dir,\n",
        "    target_size=(224, 224),\n",
        "    batch_size=batch_size,\n",
        "    class_mode='categorical'\n",
        ")\n"
      ],
      "metadata": {
        "colab": {
          "base_uri": "https://localhost:8080/"
        },
        "id": "_H4JXv11OPWd",
        "outputId": "38431948-f652-4152-c1c5-78bc29a8341e"
      },
      "execution_count": 2,
      "outputs": [
        {
          "output_type": "stream",
          "name": "stdout",
          "text": [
            "Found 1197 images belonging to 4 classes.\n",
            "Found 256 images belonging to 4 classes.\n",
            "Found 257 images belonging to 4 classes.\n"
          ]
        }
      ]
    },
    {
      "cell_type": "code",
      "source": [
        "epochs = 30\n",
        "history = model.fit(\n",
        "    training_set,\n",
        "    epochs=epochs,\n",
        "    #callbacks=[early_stopping],\n",
        "    validation_data=validation_set,\n",
        "    steps_per_epoch=len(training_set),\n",
        "    validation_steps=len(validation_set)\n",
        ")\n",
        "\n"
      ],
      "metadata": {
        "colab": {
          "base_uri": "https://localhost:8080/"
        },
        "id": "go1iNHx8TDXn",
        "outputId": "575a1285-156a-495f-92a3-202d8cfbdb69"
      },
      "execution_count": null,
      "outputs": [
        {
          "output_type": "stream",
          "name": "stdout",
          "text": [
            "Epoch 1/30\n",
            "19/19 [==============================] - 47s 2s/step - loss: 1.2040 - accuracy: 0.5347 - precision_1: 0.5816 - recall_1: 0.4586 - val_loss: 0.4376 - val_accuracy: 0.8638 - val_precision_1: 0.8992 - val_recall_1: 0.8327\n",
            "Epoch 2/30\n",
            "19/19 [==============================] - 28s 2s/step - loss: 0.5645 - accuracy: 0.7953 - precision_1: 0.8361 - recall_1: 0.7502 - val_loss: 0.4261 - val_accuracy: 0.8366 - val_precision_1: 0.8661 - val_recall_1: 0.8054\n",
            "Epoch 3/30\n",
            "19/19 [==============================] - 28s 1s/step - loss: 0.4605 - accuracy: 0.8254 - precision_1: 0.8693 - recall_1: 0.7945 - val_loss: 0.2761 - val_accuracy: 0.9300 - val_precision_1: 0.9502 - val_recall_1: 0.8911\n",
            "Epoch 4/30\n",
            "19/19 [==============================] - 27s 1s/step - loss: 0.3485 - accuracy: 0.8805 - precision_1: 0.9087 - recall_1: 0.8480 - val_loss: 0.2198 - val_accuracy: 0.9339 - val_precision_1: 0.9587 - val_recall_1: 0.9027\n",
            "Epoch 5/30\n",
            "19/19 [==============================] - 29s 1s/step - loss: 0.3033 - accuracy: 0.8872 - precision_1: 0.9156 - recall_1: 0.8605 - val_loss: 0.2497 - val_accuracy: 0.9416 - val_precision_1: 0.9558 - val_recall_1: 0.9261\n",
            "Epoch 6/30\n",
            "19/19 [==============================] - 30s 2s/step - loss: 0.2966 - accuracy: 0.8981 - precision_1: 0.9193 - recall_1: 0.8847 - val_loss: 0.1688 - val_accuracy: 0.9728 - val_precision_1: 0.9721 - val_recall_1: 0.9494\n",
            "Epoch 7/30\n",
            "19/19 [==============================] - 29s 2s/step - loss: 0.2099 - accuracy: 0.9440 - precision_1: 0.9566 - recall_1: 0.9206 - val_loss: 0.1787 - val_accuracy: 0.9650 - val_precision_1: 0.9686 - val_recall_1: 0.9611\n",
            "Epoch 8/30\n",
            "19/19 [==============================] - 29s 2s/step - loss: 0.2261 - accuracy: 0.9307 - precision_1: 0.9454 - recall_1: 0.9114 - val_loss: 0.1497 - val_accuracy: 0.9728 - val_precision_1: 0.9724 - val_recall_1: 0.9611\n",
            "Epoch 9/30\n",
            "19/19 [==============================] - 29s 2s/step - loss: 0.1975 - accuracy: 0.9390 - precision_1: 0.9536 - recall_1: 0.9282 - val_loss: 0.1441 - val_accuracy: 0.9689 - val_precision_1: 0.9765 - val_recall_1: 0.9689\n",
            "Epoch 10/30\n",
            "19/19 [==============================] - 30s 2s/step - loss: 0.1666 - accuracy: 0.9499 - precision_1: 0.9581 - recall_1: 0.9357 - val_loss: 0.1392 - val_accuracy: 0.9689 - val_precision_1: 0.9724 - val_recall_1: 0.9611\n",
            "Epoch 11/30\n",
            "19/19 [==============================] - 28s 1s/step - loss: 0.1651 - accuracy: 0.9449 - precision_1: 0.9547 - recall_1: 0.9340 - val_loss: 0.1310 - val_accuracy: 0.9650 - val_precision_1: 0.9685 - val_recall_1: 0.9572\n",
            "Epoch 12/30\n",
            "19/19 [==============================] - 29s 1s/step - loss: 0.1524 - accuracy: 0.9549 - precision_1: 0.9634 - recall_1: 0.9457 - val_loss: 0.1221 - val_accuracy: 0.9650 - val_precision_1: 0.9724 - val_recall_1: 0.9611\n",
            "Epoch 13/30\n",
            "19/19 [==============================] - 29s 2s/step - loss: 0.1559 - accuracy: 0.9532 - precision_1: 0.9656 - recall_1: 0.9373 - val_loss: 0.1380 - val_accuracy: 0.9650 - val_precision_1: 0.9686 - val_recall_1: 0.9611\n",
            "Epoch 14/30\n",
            "19/19 [==============================] - 30s 2s/step - loss: 0.1383 - accuracy: 0.9549 - precision_1: 0.9603 - recall_1: 0.9499 - val_loss: 0.1059 - val_accuracy: 0.9805 - val_precision_1: 0.9804 - val_recall_1: 0.9728\n",
            "Epoch 15/30\n",
            "19/19 [==============================] - 30s 2s/step - loss: 0.1292 - accuracy: 0.9657 - precision_1: 0.9727 - recall_1: 0.9541 - val_loss: 0.1052 - val_accuracy: 0.9767 - val_precision_1: 0.9803 - val_recall_1: 0.9689\n",
            "Epoch 16/30\n",
            "19/19 [==============================] - 31s 2s/step - loss: 0.1206 - accuracy: 0.9699 - precision_1: 0.9746 - recall_1: 0.9624 - val_loss: 0.1100 - val_accuracy: 0.9689 - val_precision_1: 0.9724 - val_recall_1: 0.9611\n",
            "Epoch 17/30\n",
            "19/19 [==============================] - 28s 1s/step - loss: 0.0992 - accuracy: 0.9783 - precision_1: 0.9815 - recall_1: 0.9733 - val_loss: 0.1061 - val_accuracy: 0.9728 - val_precision_1: 0.9765 - val_recall_1: 0.9689\n",
            "Epoch 18/30\n",
            "19/19 [==============================] - 28s 1s/step - loss: 0.1058 - accuracy: 0.9716 - precision_1: 0.9763 - recall_1: 0.9641 - val_loss: 0.1133 - val_accuracy: 0.9728 - val_precision_1: 0.9802 - val_recall_1: 0.9650\n",
            "Epoch 19/30\n",
            "19/19 [==============================] - 28s 1s/step - loss: 0.0942 - accuracy: 0.9733 - precision_1: 0.9822 - recall_1: 0.9699 - val_loss: 0.1089 - val_accuracy: 0.9728 - val_precision_1: 0.9725 - val_recall_1: 0.9650\n",
            "Epoch 20/30\n",
            "19/19 [==============================] - 29s 2s/step - loss: 0.0927 - accuracy: 0.9691 - precision_1: 0.9747 - recall_1: 0.9674 - val_loss: 0.1035 - val_accuracy: 0.9767 - val_precision_1: 0.9767 - val_recall_1: 0.9767\n",
            "Epoch 21/30\n",
            "19/19 [==============================] - 29s 2s/step - loss: 0.0859 - accuracy: 0.9766 - precision_1: 0.9806 - recall_1: 0.9708 - val_loss: 0.1377 - val_accuracy: 0.9650 - val_precision_1: 0.9685 - val_recall_1: 0.9572\n",
            "Epoch 22/30\n",
            "19/19 [==============================] - 29s 2s/step - loss: 0.0922 - accuracy: 0.9766 - precision_1: 0.9798 - recall_1: 0.9724 - val_loss: 0.0960 - val_accuracy: 0.9728 - val_precision_1: 0.9804 - val_recall_1: 0.9728\n",
            "Epoch 23/30\n",
            "19/19 [==============================] - 27s 1s/step - loss: 0.0783 - accuracy: 0.9783 - precision_1: 0.9873 - recall_1: 0.9749 - val_loss: 0.0858 - val_accuracy: 0.9767 - val_precision_1: 0.9767 - val_recall_1: 0.9767\n",
            "Epoch 24/30\n",
            "19/19 [==============================] - 31s 2s/step - loss: 0.0762 - accuracy: 0.9825 - precision_1: 0.9865 - recall_1: 0.9799 - val_loss: 0.0950 - val_accuracy: 0.9805 - val_precision_1: 0.9843 - val_recall_1: 0.9767\n",
            "Epoch 25/30\n",
            "19/19 [==============================] - 28s 1s/step - loss: 0.0816 - accuracy: 0.9808 - precision_1: 0.9840 - recall_1: 0.9766 - val_loss: 0.0851 - val_accuracy: 0.9767 - val_precision_1: 0.9766 - val_recall_1: 0.9728\n",
            "Epoch 26/30\n",
            "19/19 [==============================] - 29s 1s/step - loss: 0.0821 - accuracy: 0.9774 - precision_1: 0.9807 - recall_1: 0.9741 - val_loss: 0.0908 - val_accuracy: 0.9805 - val_precision_1: 0.9844 - val_recall_1: 0.9805\n",
            "Epoch 27/30\n",
            "19/19 [==============================] - 29s 2s/step - loss: 0.0774 - accuracy: 0.9808 - precision_1: 0.9857 - recall_1: 0.9783 - val_loss: 0.0944 - val_accuracy: 0.9805 - val_precision_1: 0.9882 - val_recall_1: 0.9767\n",
            "Epoch 28/30\n",
            "19/19 [==============================] - 30s 2s/step - loss: 0.0808 - accuracy: 0.9774 - precision_1: 0.9806 - recall_1: 0.9716 - val_loss: 0.0806 - val_accuracy: 0.9728 - val_precision_1: 0.9766 - val_recall_1: 0.9728\n",
            "Epoch 29/30\n",
            "19/19 [==============================] - 29s 2s/step - loss: 0.0808 - accuracy: 0.9791 - precision_1: 0.9815 - recall_1: 0.9749 - val_loss: 0.0940 - val_accuracy: 0.9767 - val_precision_1: 0.9804 - val_recall_1: 0.9728\n",
            "Epoch 30/30\n",
            "19/19 [==============================] - 27s 1s/step - loss: 0.0789 - accuracy: 0.9774 - precision_1: 0.9806 - recall_1: 0.9716 - val_loss: 0.1100 - val_accuracy: 0.9650 - val_precision_1: 0.9647 - val_recall_1: 0.9572\n"
          ]
        }
      ]
    },
    {
      "cell_type": "code",
      "source": [
        "import matplotlib.pyplot as plt\n",
        "\n",
        "def plot_learningCurve(history, epoch):\n",
        "# Plot training & validation accuracy values\n",
        "  epoch_range = range(1, epoch+1)\n",
        "  plt.plot(epoch_range, history.history['accuracy'])\n",
        "  plt.plot(epoch_range, history.history['val_accuracy'])\n",
        "  plt.title('Model accuracy')\n",
        "  plt.ylabel('Accuracy')\n",
        "  plt.xlabel('Epoch')\n",
        "  plt.legend(['Train', 'Val'], loc='upper left')\n",
        "  plt.show()\n",
        "#Plot training & validation Loss values\n",
        "  plt.plot(epoch_range, history.history['loss'])\n",
        "  plt.plot(epoch_range, history.history['val_loss'])\n",
        "  plt.title('Model loss')\n",
        "  plt.ylabel('Loss')\n",
        "  plt.xlabel('Epoch')\n",
        "  plt.legend(['Train', 'val'], loc='upper left')\n",
        "  plt.show()\n",
        "\n",
        "\n",
        "plot_learningCurve(history, epochs)"
      ],
      "metadata": {
        "colab": {
          "base_uri": "https://localhost:8080/",
          "height": 927
        },
        "id": "L3MsbE4BTnk5",
        "outputId": "463c0e38-5982-463b-8d1d-6f32511e848b"
      },
      "execution_count": null,
      "outputs": [
        {
          "output_type": "display_data",
          "data": {
            "text/plain": [
              "<Figure size 640x480 with 1 Axes>"
            ],
            "image/png": "[encoded data removed]"
          },
          "metadata": {}
        },
        {
          "output_type": "display_data",
          "data": {
            "text/plain": [
              "<Figure size 640x480 with 1 Axes>"
            ],
            "image/png": "[encoded data removed]"
          },
          "metadata": {}
        }
      ]
    },
    {
      "cell_type": "code",
      "source": [
        "model.save('/content/drive/MyDrive/Saved_Model/vgg16(bs64e29).h5')"
      ],
      "metadata": {
        "id": "HhLTUjaIXc_P",
        "colab": {
          "base_uri": "https://localhost:8080/"
        },
        "outputId": "9d3625bd-b61b-4473-e443-a595ea9b86c5"
      },
      "execution_count": null,
      "outputs": [
        {
          "output_type": "stream",
          "name": "stderr",
          "text": [
            "/usr/local/lib/python3.10/dist-packages/keras/src/engine/training.py:3103: UserWarning: You are saving your model as an HDF5 file via `model.save()`. This file format is considered legacy. We recommend using instead the native Keras format, e.g. `model.save('my_model.keras')`.\n",
            "  saving_api.save_model(\n"
          ]
        }
      ]
    },
    {
      "cell_type": "code",
      "source": [
        "from tensorflow.keras.models import load_model\n",
        "\n",
        "# Load the model\n",
        "loaded_model = load_model('/content/drive/MyDrive/Saved_Model/vgg16(bs64e29).h5')\n",
        "\n",
        "\n",
        "evaluation_results = loaded_model.evaluate(testing_set, steps=len(testing_set))\n",
        "\n",
        "# Extracting metrics\n",
        "test_loss = evaluation_results[0]\n",
        "test_accuracy = evaluation_results[1]\n",
        "precision = evaluation_results[2]  # Assuming precision is the third metric\n",
        "recall = evaluation_results[3]     # Assuming recall is the fourth metric\n",
        "\n",
        "print(f'Test Loss: {test_loss}, Test Accuracy: {test_accuracy}, Precision: {precision}, Recall: {recall}')"
      ],
      "metadata": {
        "colab": {
          "base_uri": "https://localhost:8080/"
        },
        "id": "Xy_7bE6srTOu",
        "outputId": "33d49a42-fcdd-4838-a57c-af45caa83138"
      },
      "execution_count": 3,
      "outputs": [
        {
          "output_type": "stream",
          "name": "stdout",
          "text": [
            "4/4 [==============================] - 50s 12s/step - loss: 0.1796 - accuracy: 0.9336 - precision_1: 0.9336 - recall_1: 0.9336\n",
            "Test Loss: 0.17961086332798004, Test Accuracy: 0.93359375, Precision: 0.93359375, Recall: 0.93359375\n"
          ]
        }
      ]
    },
    {
      "cell_type": "code",
      "source": [],
      "metadata": {
        "id": "jBPG1DyLxHjF"
      },
      "execution_count": null,
      "outputs": []
    }
  ]
}